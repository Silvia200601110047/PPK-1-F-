{
 "cells": [
  {
   "cell_type": "markdown",
   "id": "f6b9a68c",
   "metadata": {},
   "source": [
    "## Latihan Bab. 5"
   ]
  },
  {
   "cell_type": "markdown",
   "id": "c527fb44",
   "metadata": {},
   "source": [
    "### 1."
   ]
  },
  {
   "cell_type": "code",
   "execution_count": 1,
   "id": "60c8ded5",
   "metadata": {},
   "outputs": [
    {
     "name": "stdout",
     "output_type": "stream",
     "text": [
      "Bilangan a: 2\n",
      "Bilangan b: 5\n",
      "Mencetak Bilangan terbesar\n",
      "5\n"
     ]
    }
   ],
   "source": [
    "a = int(input(\"Bilangan a: \"))\n",
    "b = int(input(\"Bilangan b: \"))\n",
    "print(\"Mencetak Bilangan terbesar\")\n",
    "if a > b:\n",
    "    print(a)\n",
    "else:\n",
    "    print(b)"
   ]
  },
  {
   "cell_type": "markdown",
   "id": "51926659",
   "metadata": {},
   "source": [
    "### 2."
   ]
  },
  {
   "cell_type": "code",
   "execution_count": 2,
   "id": "47a3e0a7",
   "metadata": {},
   "outputs": [
    {
     "name": "stdout",
     "output_type": "stream",
     "text": [
      "Menghitung Nilai Akhir\n",
      "Nilai UAS: 80\n",
      "Nilai UTS: 75\n",
      "Nilai Kuis: 68\n",
      "Nilai Tugas: 85\n",
      "SELAMAT ANDA LULUS!\n"
     ]
    }
   ],
   "source": [
    "print(\"Menghitung Nilai Akhir\")\n",
    "A = int(input(\"Nilai UAS: \"))\n",
    "B = int(input(\"Nilai UTS: \"))\n",
    "C = int(input(\"Nilai Kuis: \"))\n",
    "D = int(input(\"Nilai Tugas: \"))\n",
    "Nilaiakhir = (A*40+B*30+C*10+D*20)/100\n",
    "if Nilaiakhir == \"65\" or Nilaiakhir > 65:\n",
    "    print(\"SELAMAT ANDA LULUS!\")\n",
    "else:\n",
    "    print(\"ANDA REMIDI!\")\n"
   ]
  },
  {
   "cell_type": "markdown",
   "id": "98eb7252",
   "metadata": {},
   "source": [
    "### 3."
   ]
  },
  {
   "cell_type": "code",
   "execution_count": 4,
   "id": "a29dccc7",
   "metadata": {},
   "outputs": [
    {
     "name": "stdout",
     "output_type": "stream",
     "text": [
      "Pilih Operasi.\n",
      "1.Jumlah\n",
      "2.Kurang\n",
      "3.Kali\n",
      "4.Bagi\n",
      "Masukkan bilangan pilihan(1/2/3/4): 3\n",
      "Masukkan bilangan pertama: 3\n",
      "Masukkan bilangan kedua: 9\n",
      "3 * 9 = 27\n"
     ]
    }
   ],
   "source": [
    "def add(x, y):\n",
    "   return x + y\n",
    "def subtract(x, y):\n",
    "   return x - y\n",
    "def multiply(x, y):\n",
    "   return x * y\n",
    "def divide(x, y):\n",
    "   return x / y\n",
    "print(\"Pilih Operasi.\")\n",
    "print(\"1.Jumlah\")\n",
    "print(\"2.Kurang\")\n",
    "print(\"3.Kali\")\n",
    "print(\"4.Bagi\")\n",
    "choice = input(\"Masukkan bilangan pilihan(1/2/3/4): \")\n",
    "num1 = int(input(\"Masukkan bilangan pertama: \"))\n",
    "num2 = int(input(\"Masukkan bilangan kedua: \"))\n",
    "if choice == '1':\n",
    "    print(num1,\"+\",num2,\"=\",add(num1,num2))\n",
    "elif choice == '2':\n",
    "    print(num1,\"-\",num2,\"=\",subtract(num1,num2))\n",
    "elif choice == '3':\n",
    "    print(num1,\"*\",num2,\"=\",multiply(num1,num2))\n",
    "elif choice == '4':\n",
    "    print(num1,\"/\",num2,\"=\",divide(num1,num2))\n",
    "else:\n",
    "    print(\"Input salah\")\n",
    "    "
   ]
  }
 ],
 "metadata": {
  "kernelspec": {
   "display_name": "Python 3 (ipykernel)",
   "language": "python",
   "name": "python3"
  },
  "language_info": {
   "codemirror_mode": {
    "name": "ipython",
    "version": 3
   },
   "file_extension": ".py",
   "mimetype": "text/x-python",
   "name": "python",
   "nbconvert_exporter": "python",
   "pygments_lexer": "ipython3",
   "version": "3.9.7"
  }
 },
 "nbformat": 4,
 "nbformat_minor": 5
}
