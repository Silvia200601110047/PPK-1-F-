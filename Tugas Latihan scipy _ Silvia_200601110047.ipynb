{
 "cells": [
  {
   "cell_type": "markdown",
   "id": "41850865",
   "metadata": {},
   "source": [
    "## Silvia_200601110047"
   ]
  },
  {
   "cell_type": "markdown",
   "id": "db101dd1",
   "metadata": {},
   "source": [
    "## Tugas\n",
    "Silahkan buat 5 soal matematika beserta penyelesaiannya menggunakan bantuan sympy. Buat file .ipynb kemudian upload di github dan kumpulkan link nya di elearning."
   ]
  },
  {
   "cell_type": "code",
   "execution_count": 4,
   "id": "fb76cb33",
   "metadata": {},
   "outputs": [],
   "source": [
    "init_printing(use_unicode=True)"
   ]
  },
  {
   "cell_type": "code",
   "execution_count": 2,
   "id": "ef1b50a0",
   "metadata": {},
   "outputs": [],
   "source": [
    "from sympy import *\n",
    "x = symbols('x')"
   ]
  },
  {
   "cell_type": "markdown",
   "id": "d496f505",
   "metadata": {},
   "source": [
    "### 1.\n",
    "Tentukan nilai limit dari sin(3x)/x dengan x mendekati 0 !"
   ]
  },
  {
   "cell_type": "code",
   "execution_count": 3,
   "id": "08765596",
   "metadata": {},
   "outputs": [
    {
     "data": {
      "text/latex": [
       "$\\displaystyle 3$"
      ],
      "text/plain": [
       "3"
      ]
     },
     "execution_count": 3,
     "metadata": {},
     "output_type": "execute_result"
    }
   ],
   "source": [
    "limit(sin(3*x)/x, x, 0)"
   ]
  },
  {
   "cell_type": "markdown",
   "id": "c07e3a3a",
   "metadata": {},
   "source": [
    "### 2.\n",
    "Tentukan himpunan penyelesaian dari persamaan x^2 - 16 !"
   ]
  },
  {
   "cell_type": "code",
   "execution_count": 6,
   "id": "2a898603",
   "metadata": {},
   "outputs": [
    {
     "data": {
      "image/png": "[encoded data removed]",
      "text/latex": [
       "$\\displaystyle \\left[ -4, \\  4\\right]$"
      ],
      "text/plain": [
       "[-4, 4]"
      ]
     },
     "execution_count": 6,
     "metadata": {},
     "output_type": "execute_result"
    }
   ],
   "source": [
    "solve(x**2 - 16, x)"
   ]
  },
  {
   "cell_type": "markdown",
   "id": "f58c1c49",
   "metadata": {},
   "source": [
    "### 3.\n",
    "Tentukan turunan dari 2x^3 + 7x!"
   ]
  },
  {
   "cell_type": "code",
   "execution_count": 7,
   "id": "d69a96d6",
   "metadata": {},
   "outputs": [
    {
     "data": {
      "image/png": "[encoded data removed]",
      "text/latex": [
       "$\\displaystyle 6 x^{2} + 7$"
      ],
      "text/plain": [
       "   2    \n",
       "6⋅x  + 7"
      ]
     },
     "execution_count": 7,
     "metadata": {},
     "output_type": "execute_result"
    }
   ],
   "source": [
    "diff(2*x**3 + 7*x)"
   ]
  },
  {
   "cell_type": "markdown",
   "id": "6e3847cd",
   "metadata": {},
   "source": [
    "### 4.\n",
    "Sederhanakan persamaan berikut: a = (x + 16)^2 dan b = (x^2 + 2x + 14) kemudian tentukan nilai dari a-b !"
   ]
  },
  {
   "cell_type": "code",
   "execution_count": 8,
   "id": "c6a7eab7",
   "metadata": {},
   "outputs": [
    {
     "data": {
      "image/png": "[encoded data removed]",
      "text/latex": [
       "$\\displaystyle 30 x + 242$"
      ],
      "text/plain": [
       "30⋅x + 242"
      ]
     },
     "execution_count": 8,
     "metadata": {},
     "output_type": "execute_result"
    }
   ],
   "source": [
    "a = (x + 16)**2\n",
    "b = x**2 + 2*x + 14\n",
    "simplify(a - b)"
   ]
  },
  {
   "cell_type": "markdown",
   "id": "e865e8d7",
   "metadata": {},
   "source": [
    "### 5.\n",
    "Tentukan hasil dari integral (2 sin 4x + 3 cos 6x) ?"
   ]
  },
  {
   "cell_type": "code",
   "execution_count": 9,
   "id": "b6f5799e",
   "metadata": {},
   "outputs": [
    {
     "data": {
      "image/png": "[encoded data removed]",
      "text/latex": [
       "$\\displaystyle \\frac{\\sin{\\left(6 x \\right)}}{2} - \\frac{\\cos{\\left(4 x \\right)}}{2}$"
      ],
      "text/plain": [
       "sin(6⋅x)   cos(4⋅x)\n",
       "──────── - ────────\n",
       "   2          2    "
      ]
     },
     "execution_count": 9,
     "metadata": {},
     "output_type": "execute_result"
    }
   ],
   "source": [
    "integrate(2*sin(4*x)  + 3*cos(6*x), x)"
   ]
  }
 ],
 "metadata": {
  "kernelspec": {
   "display_name": "Python 3 (ipykernel)",
   "language": "python",
   "name": "python3"
  },
  "language_info": {
   "codemirror_mode": {
    "name": "ipython",
    "version": 3
   },
   "file_extension": ".py",
   "mimetype": "text/x-python",
   "name": "python",
   "nbconvert_exporter": "python",
   "pygments_lexer": "ipython3",
   "version": "3.9.7"
  }
 },
 "nbformat": 4,
 "nbformat_minor": 5
}
