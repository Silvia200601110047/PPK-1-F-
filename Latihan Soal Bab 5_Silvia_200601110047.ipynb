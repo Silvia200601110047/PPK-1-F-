{
 "cells": [
  {
   "cell_type": "markdown",
   "id": "ef3d2776",
   "metadata": {},
   "source": [
    "## Silvia_200601110047"
   ]
  },
  {
   "cell_type": "markdown",
   "id": "1f9f43ee",
   "metadata": {},
   "source": [
    "## Latihan Soal Bab 5"
   ]
  },
  {
   "cell_type": "markdown",
   "id": "78094048",
   "metadata": {},
   "source": [
    "### Nomor 1"
   ]
  },
  {
   "cell_type": "code",
   "execution_count": 5,
   "id": "6f3d4d8a",
   "metadata": {},
   "outputs": [
    {
     "name": "stdout",
     "output_type": "stream",
     "text": [
      "Jika user memasukkan N= 3\n",
      "Bilangan genap ke-  1  : 0\n",
      "Bilangan genap ke-  2  : 2\n",
      "Bilangan genap ke-  3  : 4\n",
      "Total=  6\n"
     ]
    }
   ],
   "source": [
    "S=int(input(\"Jika user memasukkan N= \"))\n",
    "angka=0\n",
    "t=0\n",
    "u=0\n",
    "for i in range(0,S*2,2):\n",
    "    angka=angka+i\n",
    "    t=t+1\n",
    "    u=u+i\n",
    "    print(\"Bilangan genap ke- \",t,\" :\",i)\n",
    "print(\"Total= \",u)"
   ]
  },
  {
   "cell_type": "markdown",
   "id": "d97b1ebf",
   "metadata": {},
   "source": [
    "### Nomor 2"
   ]
  },
  {
   "cell_type": "code",
   "execution_count": 16,
   "id": "75ab5f13",
   "metadata": {},
   "outputs": [
    {
     "name": "stdout",
     "output_type": "stream",
     "text": [
      "Jika user memasukkan angka: 9\n",
      "deret bilangan kuadrat:\n",
      "1 4 9 16 25 36 49 64 81 hasil penjumlahan kuadrat:  285\n"
     ]
    }
   ],
   "source": [
    "i, N, jum =1, 0, 0\n",
    "\n",
    "N = int(input(\"Jika user memasukkan angka: \"))\n",
    "print(\"deret bilangan kuadrat:\")\n",
    "while True:\n",
    "    jum += i*i\n",
    "    print(i*i, end=' ')\n",
    "    i += 1\n",
    "    if i> N:\n",
    "        break\n",
    "print(\"hasil penjumlahan kuadrat: \", jum)"
   ]
  },
  {
   "cell_type": "markdown",
   "id": "a4aef17f",
   "metadata": {},
   "source": [
    "### Nomor 3"
   ]
  },
  {
   "cell_type": "code",
   "execution_count": 2,
   "id": "1f1fc6cf",
   "metadata": {},
   "outputs": [
    {
     "name": "stdout",
     "output_type": "stream",
     "text": [
      "Masukkan N : 2345\n",
      "jumlah digit yang ganjil:  2\n"
     ]
    }
   ],
   "source": [
    "N = input(\"Masukkan N : \")\n",
    "ganjil=0\n",
    "g=''\n",
    "for i in N:\n",
    "    if i in'13579':\n",
    "        ganjil += 1\n",
    "        g = g+i+''\n",
    "print(\"jumlah digit yang ganjil: \",ganjil)"
   ]
  }
 ],
 "metadata": {
  "kernelspec": {
   "display_name": "Python 3 (ipykernel)",
   "language": "python",
   "name": "python3"
  },
  "language_info": {
   "codemirror_mode": {
    "name": "ipython",
    "version": 3
   },
   "file_extension": ".py",
   "mimetype": "text/x-python",
   "name": "python",
   "nbconvert_exporter": "python",
   "pygments_lexer": "ipython3",
   "version": "3.9.7"
  }
 },
 "nbformat": 4,
 "nbformat_minor": 5
}
