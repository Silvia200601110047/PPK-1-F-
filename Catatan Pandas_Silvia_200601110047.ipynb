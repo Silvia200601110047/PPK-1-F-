{
 "cells": [
  {
   "cell_type": "markdown",
   "id": "3caf4f81",
   "metadata": {},
   "source": [
    "# Silvia_200601110047"
   ]
  },
  {
   "cell_type": "markdown",
   "id": "aed92403",
   "metadata": {},
   "source": [
    "## PANDAS"
   ]
  },
  {
   "cell_type": "markdown",
   "id": "027b2a94",
   "metadata": {},
   "source": [
    "- \"Pandas is derived from the term \"panel data\", an econometrics term for data sets that include observations over multiple time periods for the same individuals - Wikipedia\"\n",
    "\n",
    "- Pandas adalah sebuah librari berlisensi BSD dan open source yang menyediakan struktur data dan analisis data yang mudah digunakan dan berkinerja tinggi untuk bahasa pemrograman Python\n",
    "\n",
    "- librari analisis data yang memiliki struktur data yang diperlukan untuk mengkonversi data mentah ke dalam bentuk/format tabel sehingga memudahkan untuk analisis"
   ]
  },
  {
   "cell_type": "markdown",
   "id": "d0e24e71",
   "metadata": {},
   "source": [
    "# DataFrame"
   ]
  },
  {
   "cell_type": "markdown",
   "id": "239a0598",
   "metadata": {},
   "source": [
    "- Struktur data dasar pandas dinamakan DataFrame\n",
    "\n",
    "- koleksi kolom berurutan dengan bentuk sebuah tabel yang tampak seperti database dimana sebuah baris tunggal mewakili sebuah data tunggal dan kolom mewakili atribut tertentu\n",
    "\n",
    "- Dengan adanya fitur dataframe memudahkan untuk membaca sebuah file dan menjadikannya table"
   ]
  },
  {
   "cell_type": "markdown",
   "id": "fa9ae7df",
   "metadata": {},
   "source": [
    "# yang bisa dilakukan Pandas"
   ]
  },
  {
   "cell_type": "markdown",
   "id": "950dfda0",
   "metadata": {},
   "source": [
    "- Read from and write to CSV other file and databases\n",
    "\n",
    "- Calculate statistics and answer questions about the data likeWhat's the average median, max or min of each column?\n",
    "\n",
    "  - Does column A correlate with column B?\n",
    "\n",
    "  - What does the distribution of data in column C look like?\n",
    "\n",
    "- Clean the data by doing things like removing missing values and filtering rows or columns by some criteria Visualize the data with help from Matplotlip.Plot bars, lines, histograms, bubbles, and more\n",
    "\n",
    "- kita juga dapat mengelolah data dengan menggunakan operasi seperti join, district, group by, agregasi, dan teknik lainnya yang terdapat pada SQL."
   ]
  },
  {
   "cell_type": "markdown",
   "id": "9d63a146",
   "metadata": {},
   "source": [
    "# Install dan Import"
   ]
  },
  {
   "cell_type": "markdown",
   "id": "45b02caf",
   "metadata": {},
   "source": [
    "- Install:\n",
    "\n",
    "  - conda install pandas\n",
    "  \n",
    "   atau\n",
    "     \n",
    "  - pip install pandas\n",
    "  \n",
    "- Jika akan menggunakan di dalam program, perlu dilakukan import:\n",
    "\n",
    "  - import pandas\n",
    "  \n",
    "  - Atau biasannya untuk menyingkat penulisan saat diakses, maka diberi nama alias, misalnys \"pd\"\n",
    "  \n",
    "  - import pandas as as pd"
   ]
  },
  {
   "cell_type": "markdown",
   "id": "145106be",
   "metadata": {},
   "source": [
    "Pandas merupakan salah satu package yang sangat membantu kita dalam pengolahan data dengan bahasa python. Hal ini karena pada menyediakan fitur dataframe. Dengan dataframe, kita bisa menjadikan file terbaca menjadi sebuah tabel. File yang didukung seperti .txt, .csv, .tsv dan lainnya."
   ]
  },
  {
   "cell_type": "markdown",
   "id": "281620e7",
   "metadata": {},
   "source": [
    "# Mengimpor Pandas"
   ]
  },
  {
   "cell_type": "code",
   "execution_count": 2,
   "id": "9bbbff40",
   "metadata": {},
   "outputs": [],
   "source": [
    "import numpy as np\n",
    "import pandas as pd"
   ]
  },
  {
   "cell_type": "markdown",
   "id": "4f4efdba",
   "metadata": {},
   "source": [
    " # Import .txt"
   ]
  },
  {
   "cell_type": "markdown",
   "id": "b64dc5a3",
   "metadata": {},
   "source": [
    "siapkan dahulu file txt (dengan jarak antar data misal menggunakan tab) di folder yang sama dengan program"
   ]
  },
  {
   "cell_type": "code",
   "execution_count": 3,
   "id": "be494af0",
   "metadata": {},
   "outputs": [
    {
     "name": "stdout",
     "output_type": "stream",
     "text": [
      "   A\\tB\n",
      "0  1\\t2\n",
      "1  4\\t3\n",
      "2  4\\t2\n"
     ]
    }
   ],
   "source": [
    "data1=pd.read_csv(\"data.txt\")\n",
    "print(data1)"
   ]
  },
  {
   "cell_type": "code",
   "execution_count": 4,
   "id": "1e1341a6",
   "metadata": {},
   "outputs": [
    {
     "name": "stdout",
     "output_type": "stream",
     "text": [
      "   A  B\n",
      "0  1  2\n",
      "1  4  3\n",
      "2  4  2\n"
     ]
    }
   ],
   "source": [
    "data2=pd.read_csv(\"data.txt\", delimiter=\"\\t\")\n",
    "print(data2)"
   ]
  },
  {
   "cell_type": "markdown",
   "id": "c5d3d52a",
   "metadata": {},
   "source": [
    "# Import .csv"
   ]
  },
  {
   "cell_type": "markdown",
   "id": "99f692a3",
   "metadata": {},
   "source": [
    "siapkan dahulu file csv di folder yang sama dengan program"
   ]
  },
  {
   "cell_type": "code",
   "execution_count": 5,
   "id": "756f0415",
   "metadata": {},
   "outputs": [
    {
     "name": "stdout",
     "output_type": "stream",
     "text": [
      "   A\\tB\n",
      "0  1\\t2\n",
      "1  4\\t3\n",
      "2  4\\t2\n"
     ]
    }
   ],
   "source": [
    "data3=pd.read_csv(\"data.txt\")\n",
    "print(data3)"
   ]
  },
  {
   "cell_type": "code",
   "execution_count": 6,
   "id": "d6a3e891",
   "metadata": {},
   "outputs": [
    {
     "name": "stdout",
     "output_type": "stream",
     "text": [
      "   A  B\n",
      "0  1  2\n",
      "1  4  3\n",
      "2  4  2\n"
     ]
    }
   ],
   "source": [
    "data4=pd.read_csv(\"data.txt\", delimiter=\"\\s+\")\n",
    "print(data4)"
   ]
  },
  {
   "cell_type": "markdown",
   "id": "847b6a0b",
   "metadata": {},
   "source": [
    "# Import .xlsx"
   ]
  },
  {
   "cell_type": "markdown",
   "id": "fa186283",
   "metadata": {},
   "source": [
    "siapkan dahulu file xlsx di folder yang sama dengan program"
   ]
  },
  {
   "cell_type": "code",
   "execution_count": 7,
   "id": "6b26fd6b",
   "metadata": {},
   "outputs": [
    {
     "name": "stdout",
     "output_type": "stream",
     "text": [
      "   A  B\n",
      "0  1  2\n",
      "1  4  3\n",
      "2  4  2\n"
     ]
    }
   ],
   "source": [
    "data5=pd.read_excel('data.xlsx')\n",
    "print(data5)"
   ]
  },
  {
   "cell_type": "markdown",
   "id": "eb2b7315",
   "metadata": {},
   "source": [
    "# Import .xls"
   ]
  },
  {
   "cell_type": "markdown",
   "id": "f939a0e4",
   "metadata": {},
   "source": [
    "siapkan dahulu file xls di folder yang sama dengan program"
   ]
  },
  {
   "cell_type": "code",
   "execution_count": 8,
   "id": "0f2e46f4",
   "metadata": {},
   "outputs": [
    {
     "name": "stdout",
     "output_type": "stream",
     "text": [
      "   A  B\n",
      "0  1  2\n",
      "1  4  3\n",
      "2  4  2\n"
     ]
    }
   ],
   "source": [
    "data6=pd.read_excel('data.xls')\n",
    "print(data6)"
   ]
  },
  {
   "cell_type": "markdown",
   "id": "87071329",
   "metadata": {},
   "source": [
    "# Melihat Tabel"
   ]
  },
  {
   "cell_type": "code",
   "execution_count": 9,
   "id": "43780de7",
   "metadata": {},
   "outputs": [
    {
     "data": {
      "text/html": [
       "<div>\n",
       "<style scoped>\n",
       "    .dataframe tbody tr th:only-of-type {\n",
       "        vertical-align: middle;\n",
       "    }\n",
       "\n",
       "    .dataframe tbody tr th {\n",
       "        vertical-align: top;\n",
       "    }\n",
       "\n",
       "    .dataframe thead th {\n",
       "        text-align: right;\n",
       "    }\n",
       "</style>\n",
       "<table border=\"1\" class=\"dataframe\">\n",
       "  <thead>\n",
       "    <tr style=\"text-align: right;\">\n",
       "      <th></th>\n",
       "      <th>A</th>\n",
       "      <th>B</th>\n",
       "    </tr>\n",
       "  </thead>\n",
       "  <tbody>\n",
       "    <tr>\n",
       "      <th>0</th>\n",
       "      <td>1</td>\n",
       "      <td>2</td>\n",
       "    </tr>\n",
       "    <tr>\n",
       "      <th>1</th>\n",
       "      <td>4</td>\n",
       "      <td>3</td>\n",
       "    </tr>\n",
       "    <tr>\n",
       "      <th>2</th>\n",
       "      <td>4</td>\n",
       "      <td>2</td>\n",
       "    </tr>\n",
       "  </tbody>\n",
       "</table>\n",
       "</div>"
      ],
      "text/plain": [
       "   A  B\n",
       "0  1  2\n",
       "1  4  3\n",
       "2  4  2"
      ]
     },
     "execution_count": 9,
     "metadata": {},
     "output_type": "execute_result"
    }
   ],
   "source": [
    "#semua\n",
    "data2"
   ]
  },
  {
   "cell_type": "code",
   "execution_count": 10,
   "id": "d4ff95fc",
   "metadata": {},
   "outputs": [
    {
     "data": {
      "text/html": [
       "<div>\n",
       "<style scoped>\n",
       "    .dataframe tbody tr th:only-of-type {\n",
       "        vertical-align: middle;\n",
       "    }\n",
       "\n",
       "    .dataframe tbody tr th {\n",
       "        vertical-align: top;\n",
       "    }\n",
       "\n",
       "    .dataframe thead th {\n",
       "        text-align: right;\n",
       "    }\n",
       "</style>\n",
       "<table border=\"1\" class=\"dataframe\">\n",
       "  <thead>\n",
       "    <tr style=\"text-align: right;\">\n",
       "      <th></th>\n",
       "      <th>A</th>\n",
       "      <th>B</th>\n",
       "    </tr>\n",
       "  </thead>\n",
       "  <tbody>\n",
       "    <tr>\n",
       "      <th>0</th>\n",
       "      <td>1</td>\n",
       "      <td>2</td>\n",
       "    </tr>\n",
       "    <tr>\n",
       "      <th>1</th>\n",
       "      <td>4</td>\n",
       "      <td>3</td>\n",
       "    </tr>\n",
       "    <tr>\n",
       "      <th>2</th>\n",
       "      <td>4</td>\n",
       "      <td>2</td>\n",
       "    </tr>\n",
       "  </tbody>\n",
       "</table>\n",
       "</div>"
      ],
      "text/plain": [
       "   A  B\n",
       "0  1  2\n",
       "1  4  3\n",
       "2  4  2"
      ]
     },
     "execution_count": 10,
     "metadata": {},
     "output_type": "execute_result"
    }
   ],
   "source": [
    "#sebagian yang diatas (karena datanya sedikit maka yang tampil semua, silahkan coba dengan data yang lebih banyak lagi sendiri)\n",
    "data2.head()"
   ]
  },
  {
   "cell_type": "markdown",
   "id": "17758567",
   "metadata": {},
   "source": [
    "# Membuat Dataframe sendiri"
   ]
  },
  {
   "cell_type": "code",
   "execution_count": 11,
   "id": "7e79524d",
   "metadata": {},
   "outputs": [
    {
     "name": "stdout",
     "output_type": "stream",
     "text": [
      "Empty DataFrame\n",
      "Columns: []\n",
      "Index: []\n"
     ]
    }
   ],
   "source": [
    "df = pd.DataFrame()\n",
    "print(df)"
   ]
  },
  {
   "cell_type": "code",
   "execution_count": 12,
   "id": "addb7437",
   "metadata": {},
   "outputs": [
    {
     "name": "stdout",
     "output_type": "stream",
     "text": [
      "   0\n",
      "0  1\n",
      "1  2\n",
      "2  3\n",
      "3  4\n",
      "4  5\n"
     ]
    }
   ],
   "source": [
    "data = [1,2,3,4,5]\n",
    "df1 = pd.DataFrame(data)\n",
    "print(df1)"
   ]
  },
  {
   "cell_type": "code",
   "execution_count": 13,
   "id": "dc0f4c45",
   "metadata": {},
   "outputs": [
    {
     "name": "stdout",
     "output_type": "stream",
     "text": [
      "       Nama  Usia\n",
      "0  Purwanto    32\n",
      "1   Purnomo    43\n",
      "2     Purwo    55\n"
     ]
    }
   ],
   "source": [
    "data = [['Purwanto',32],['Purnomo',43],['Purwo',55]]\n",
    "df2 = pd.DataFrame(data,columns=['Nama','Usia'])\n",
    "print(df2)"
   ]
  },
  {
   "cell_type": "code",
   "execution_count": 14,
   "id": "4ff072a1",
   "metadata": {},
   "outputs": [],
   "source": [
    "import pandas as pd\n",
    "import numpy as np"
   ]
  },
  {
   "cell_type": "markdown",
   "id": "05267700",
   "metadata": {},
   "source": [
    "# Memanggil data tertentu pada dataframe"
   ]
  },
  {
   "cell_type": "markdown",
   "id": "329a6518",
   "metadata": {},
   "source": [
    "Misal kita punya dataframe sebagai berikut:"
   ]
  },
  {
   "cell_type": "code",
   "execution_count": 15,
   "id": "15f53b2c",
   "metadata": {},
   "outputs": [
    {
     "name": "stdout",
     "output_type": "stream",
     "text": [
      "       Nama  Usia\n",
      "0  Purwanto    32\n",
      "1   Purnomo    43\n",
      "2     Purwo    55\n"
     ]
    }
   ],
   "source": [
    "data = [['Purwanto',32],['Purnomo',43],['Purwo',55]]\n",
    "df2 = pd.DataFrame(data,columns=['Nama','Usia'])\n",
    "print(df2)"
   ]
  },
  {
   "cell_type": "markdown",
   "id": "603a84b5",
   "metadata": {},
   "source": [
    "Dan ingin memanggil kolom tertentu"
   ]
  },
  {
   "cell_type": "code",
   "execution_count": 16,
   "id": "685f3b66",
   "metadata": {},
   "outputs": [
    {
     "data": {
      "text/plain": [
       "0    Purwanto\n",
       "1     Purnomo\n",
       "2       Purwo\n",
       "Name: Nama, dtype: object"
      ]
     },
     "execution_count": 16,
     "metadata": {},
     "output_type": "execute_result"
    }
   ],
   "source": [
    "df2[\"Nama\"]"
   ]
  },
  {
   "cell_type": "code",
   "execution_count": 17,
   "id": "0d1b44cf",
   "metadata": {},
   "outputs": [
    {
     "data": {
      "text/plain": [
       "0    32\n",
       "1    43\n",
       "2    55\n",
       "Name: Usia, dtype: int64"
      ]
     },
     "execution_count": 17,
     "metadata": {},
     "output_type": "execute_result"
    }
   ],
   "source": [
    "df2[\"Usia\"]"
   ]
  },
  {
   "cell_type": "code",
   "execution_count": 18,
   "id": "aa68bc51",
   "metadata": {},
   "outputs": [
    {
     "data": {
      "text/plain": [
       "'Purwanto'"
      ]
     },
     "execution_count": 18,
     "metadata": {},
     "output_type": "execute_result"
    }
   ],
   "source": [
    "df2[\"Nama\"][0]"
   ]
  },
  {
   "cell_type": "code",
   "execution_count": 19,
   "id": "3a845c23",
   "metadata": {},
   "outputs": [
    {
     "data": {
      "text/plain": [
       "'Purwanto'"
      ]
     },
     "execution_count": 19,
     "metadata": {},
     "output_type": "execute_result"
    }
   ],
   "source": [
    "df2.iloc[0][0]"
   ]
  },
  {
   "cell_type": "code",
   "execution_count": 20,
   "id": "3490242d",
   "metadata": {},
   "outputs": [
    {
     "data": {
      "text/plain": [
       "'Purwanto'"
      ]
     },
     "execution_count": 20,
     "metadata": {},
     "output_type": "execute_result"
    }
   ],
   "source": [
    "df2.loc[0][\"Nama\"]"
   ]
  },
  {
   "cell_type": "code",
   "execution_count": 21,
   "id": "f4dd76c5",
   "metadata": {},
   "outputs": [
    {
     "data": {
      "text/plain": [
       "'Purwanto'"
      ]
     },
     "execution_count": 21,
     "metadata": {},
     "output_type": "execute_result"
    }
   ],
   "source": [
    "df2.at[0,\"Nama\"]"
   ]
  },
  {
   "cell_type": "code",
   "execution_count": 22,
   "id": "35815a32",
   "metadata": {},
   "outputs": [
    {
     "data": {
      "text/plain": [
       "'Purwanto'"
      ]
     },
     "execution_count": 22,
     "metadata": {},
     "output_type": "execute_result"
    }
   ],
   "source": [
    "df2.iat[0,0]"
   ]
  },
  {
   "cell_type": "code",
   "execution_count": 23,
   "id": "75300bdc",
   "metadata": {},
   "outputs": [
    {
     "data": {
      "text/plain": [
       "Nama    Purwanto\n",
       "Usia          32\n",
       "Name: 0, dtype: object"
      ]
     },
     "execution_count": 23,
     "metadata": {},
     "output_type": "execute_result"
    }
   ],
   "source": [
    "df2.iloc[0]"
   ]
  },
  {
   "cell_type": "code",
   "execution_count": 24,
   "id": "1041f580",
   "metadata": {},
   "outputs": [
    {
     "data": {
      "text/plain": [
       "0    Purwanto\n",
       "1     Purnomo\n",
       "2       Purwo\n",
       "Name: Nama, dtype: object"
      ]
     },
     "execution_count": 24,
     "metadata": {},
     "output_type": "execute_result"
    }
   ],
   "source": [
    "df2.loc[:,'Nama']"
   ]
  },
  {
   "cell_type": "markdown",
   "id": "a986403d",
   "metadata": {},
   "source": [
    "# Set Index"
   ]
  },
  {
   "cell_type": "code",
   "execution_count": 25,
   "id": "83f96b7c",
   "metadata": {},
   "outputs": [
    {
     "data": {
      "text/html": [
       "<div>\n",
       "<style scoped>\n",
       "    .dataframe tbody tr th:only-of-type {\n",
       "        vertical-align: middle;\n",
       "    }\n",
       "\n",
       "    .dataframe tbody tr th {\n",
       "        vertical-align: top;\n",
       "    }\n",
       "\n",
       "    .dataframe thead th {\n",
       "        text-align: right;\n",
       "    }\n",
       "</style>\n",
       "<table border=\"1\" class=\"dataframe\">\n",
       "  <thead>\n",
       "    <tr style=\"text-align: right;\">\n",
       "      <th></th>\n",
       "      <th>Nama</th>\n",
       "      <th>Usia</th>\n",
       "    </tr>\n",
       "  </thead>\n",
       "  <tbody>\n",
       "    <tr>\n",
       "      <th>0</th>\n",
       "      <td>Purwanto</td>\n",
       "      <td>32</td>\n",
       "    </tr>\n",
       "    <tr>\n",
       "      <th>1</th>\n",
       "      <td>Purnomo</td>\n",
       "      <td>43</td>\n",
       "    </tr>\n",
       "    <tr>\n",
       "      <th>2</th>\n",
       "      <td>Purwo</td>\n",
       "      <td>55</td>\n",
       "    </tr>\n",
       "  </tbody>\n",
       "</table>\n",
       "</div>"
      ],
      "text/plain": [
       "       Nama  Usia\n",
       "0  Purwanto    32\n",
       "1   Purnomo    43\n",
       "2     Purwo    55"
      ]
     },
     "execution_count": 25,
     "metadata": {},
     "output_type": "execute_result"
    }
   ],
   "source": [
    "df3 = pd.DataFrame([['Purwanto',32],['Purnomo',43],['Purwo',55]],columns=['Nama','Usia'])\n",
    "df3"
   ]
  },
  {
   "cell_type": "code",
   "execution_count": 26,
   "id": "8ccce060",
   "metadata": {},
   "outputs": [
    {
     "data": {
      "text/html": [
       "<div>\n",
       "<style scoped>\n",
       "    .dataframe tbody tr th:only-of-type {\n",
       "        vertical-align: middle;\n",
       "    }\n",
       "\n",
       "    .dataframe tbody tr th {\n",
       "        vertical-align: top;\n",
       "    }\n",
       "\n",
       "    .dataframe thead th {\n",
       "        text-align: right;\n",
       "    }\n",
       "</style>\n",
       "<table border=\"1\" class=\"dataframe\">\n",
       "  <thead>\n",
       "    <tr style=\"text-align: right;\">\n",
       "      <th></th>\n",
       "      <th>Usia</th>\n",
       "    </tr>\n",
       "    <tr>\n",
       "      <th>Nama</th>\n",
       "      <th></th>\n",
       "    </tr>\n",
       "  </thead>\n",
       "  <tbody>\n",
       "    <tr>\n",
       "      <th>Purwanto</th>\n",
       "      <td>32</td>\n",
       "    </tr>\n",
       "    <tr>\n",
       "      <th>Purnomo</th>\n",
       "      <td>43</td>\n",
       "    </tr>\n",
       "    <tr>\n",
       "      <th>Purwo</th>\n",
       "      <td>55</td>\n",
       "    </tr>\n",
       "  </tbody>\n",
       "</table>\n",
       "</div>"
      ],
      "text/plain": [
       "          Usia\n",
       "Nama          \n",
       "Purwanto    32\n",
       "Purnomo     43\n",
       "Purwo       55"
      ]
     },
     "execution_count": 26,
     "metadata": {},
     "output_type": "execute_result"
    }
   ],
   "source": [
    "df3.set_index(\"Nama\")"
   ]
  },
  {
   "cell_type": "markdown",
   "id": "723aed1b",
   "metadata": {},
   "source": [
    "# Pemanggilan Baris"
   ]
  },
  {
   "cell_type": "code",
   "execution_count": 27,
   "id": "f4057666",
   "metadata": {},
   "outputs": [
    {
     "data": {
      "text/html": [
       "<div>\n",
       "<style scoped>\n",
       "    .dataframe tbody tr th:only-of-type {\n",
       "        vertical-align: middle;\n",
       "    }\n",
       "\n",
       "    .dataframe tbody tr th {\n",
       "        vertical-align: top;\n",
       "    }\n",
       "\n",
       "    .dataframe thead th {\n",
       "        text-align: right;\n",
       "    }\n",
       "</style>\n",
       "<table border=\"1\" class=\"dataframe\">\n",
       "  <thead>\n",
       "    <tr style=\"text-align: right;\">\n",
       "      <th></th>\n",
       "      <th>48</th>\n",
       "      <th>49</th>\n",
       "      <th>50</th>\n",
       "    </tr>\n",
       "  </thead>\n",
       "  <tbody>\n",
       "    <tr>\n",
       "      <th>2</th>\n",
       "      <td>1</td>\n",
       "      <td>2</td>\n",
       "      <td>3</td>\n",
       "    </tr>\n",
       "    <tr>\n",
       "      <th>A</th>\n",
       "      <td>4</td>\n",
       "      <td>5</td>\n",
       "      <td>6</td>\n",
       "    </tr>\n",
       "    <tr>\n",
       "      <th>4</th>\n",
       "      <td>7</td>\n",
       "      <td>8</td>\n",
       "      <td>9</td>\n",
       "    </tr>\n",
       "  </tbody>\n",
       "</table>\n",
       "</div>"
      ],
      "text/plain": [
       "   48  49  50\n",
       "2   1   2   3\n",
       "A   4   5   6\n",
       "4   7   8   9"
      ]
     },
     "execution_count": 27,
     "metadata": {},
     "output_type": "execute_result"
    }
   ],
   "source": [
    "df4 = pd.DataFrame(data=np.array([[1, 2, 3], [4, 5, 6], [7, 8, 9]]), index= [2, 'A', 4], columns=[48, 49, 50])\n",
    "df4"
   ]
  },
  {
   "cell_type": "code",
   "execution_count": 28,
   "id": "53151614",
   "metadata": {},
   "outputs": [
    {
     "data": {
      "text/plain": [
       "48    1\n",
       "49    2\n",
       "50    3\n",
       "Name: 2, dtype: int32"
      ]
     },
     "execution_count": 28,
     "metadata": {},
     "output_type": "execute_result"
    }
   ],
   "source": [
    "df4.loc[2]"
   ]
  },
  {
   "cell_type": "code",
   "execution_count": 29,
   "id": "fbaa917e",
   "metadata": {},
   "outputs": [
    {
     "data": {
      "text/plain": [
       "48    7\n",
       "49    8\n",
       "50    9\n",
       "Name: 4, dtype: int32"
      ]
     },
     "execution_count": 29,
     "metadata": {},
     "output_type": "execute_result"
    }
   ],
   "source": [
    "df4.iloc[2]"
   ]
  },
  {
   "cell_type": "markdown",
   "id": "3857a270",
   "metadata": {},
   "source": [
    "# Menambah Kolom"
   ]
  },
  {
   "cell_type": "code",
   "execution_count": 30,
   "id": "9c1b0222",
   "metadata": {},
   "outputs": [
    {
     "data": {
      "text/html": [
       "<div>\n",
       "<style scoped>\n",
       "    .dataframe tbody tr th:only-of-type {\n",
       "        vertical-align: middle;\n",
       "    }\n",
       "\n",
       "    .dataframe tbody tr th {\n",
       "        vertical-align: top;\n",
       "    }\n",
       "\n",
       "    .dataframe thead th {\n",
       "        text-align: right;\n",
       "    }\n",
       "</style>\n",
       "<table border=\"1\" class=\"dataframe\">\n",
       "  <thead>\n",
       "    <tr style=\"text-align: right;\">\n",
       "      <th></th>\n",
       "      <th>Nama</th>\n",
       "      <th>Usia</th>\n",
       "      <th>Index</th>\n",
       "    </tr>\n",
       "  </thead>\n",
       "  <tbody>\n",
       "    <tr>\n",
       "      <th>0</th>\n",
       "      <td>Purwanto</td>\n",
       "      <td>32</td>\n",
       "      <td>0</td>\n",
       "    </tr>\n",
       "    <tr>\n",
       "      <th>1</th>\n",
       "      <td>Purnomo</td>\n",
       "      <td>43</td>\n",
       "      <td>1</td>\n",
       "    </tr>\n",
       "    <tr>\n",
       "      <th>2</th>\n",
       "      <td>Purwo</td>\n",
       "      <td>55</td>\n",
       "      <td>2</td>\n",
       "    </tr>\n",
       "  </tbody>\n",
       "</table>\n",
       "</div>"
      ],
      "text/plain": [
       "       Nama  Usia  Index\n",
       "0  Purwanto    32      0\n",
       "1   Purnomo    43      1\n",
       "2     Purwo    55      2"
      ]
     },
     "execution_count": 30,
     "metadata": {},
     "output_type": "execute_result"
    }
   ],
   "source": [
    "#Menambahkan index di kolom baru\n",
    "df5 = pd.DataFrame([['Purwanto',32],['Purnomo',43],['Purwo',55]],columns=['Nama','Usia'])\n",
    "df5[\"Index\"]=df5.index\n",
    "df5"
   ]
  },
  {
   "cell_type": "code",
   "execution_count": 31,
   "id": "dfe1c529",
   "metadata": {},
   "outputs": [
    {
     "data": {
      "text/html": [
       "<div>\n",
       "<style scoped>\n",
       "    .dataframe tbody tr th:only-of-type {\n",
       "        vertical-align: middle;\n",
       "    }\n",
       "\n",
       "    .dataframe tbody tr th {\n",
       "        vertical-align: top;\n",
       "    }\n",
       "\n",
       "    .dataframe thead th {\n",
       "        text-align: right;\n",
       "    }\n",
       "</style>\n",
       "<table border=\"1\" class=\"dataframe\">\n",
       "  <thead>\n",
       "    <tr style=\"text-align: right;\">\n",
       "      <th></th>\n",
       "      <th>Nama</th>\n",
       "      <th>Usia</th>\n",
       "      <th>Index</th>\n",
       "      <th>Gender</th>\n",
       "    </tr>\n",
       "  </thead>\n",
       "  <tbody>\n",
       "    <tr>\n",
       "      <th>0</th>\n",
       "      <td>Purwanto</td>\n",
       "      <td>32</td>\n",
       "      <td>0</td>\n",
       "      <td>L</td>\n",
       "    </tr>\n",
       "    <tr>\n",
       "      <th>1</th>\n",
       "      <td>Purnomo</td>\n",
       "      <td>43</td>\n",
       "      <td>1</td>\n",
       "      <td>L</td>\n",
       "    </tr>\n",
       "    <tr>\n",
       "      <th>2</th>\n",
       "      <td>Purwo</td>\n",
       "      <td>55</td>\n",
       "      <td>2</td>\n",
       "      <td>L</td>\n",
       "    </tr>\n",
       "  </tbody>\n",
       "</table>\n",
       "</div>"
      ],
      "text/plain": [
       "       Nama  Usia  Index Gender\n",
       "0  Purwanto    32      0      L\n",
       "1   Purnomo    43      1      L\n",
       "2     Purwo    55      2      L"
      ]
     },
     "execution_count": 31,
     "metadata": {},
     "output_type": "execute_result"
    }
   ],
   "source": [
    "#Menambahkan kolom dengan isian baru\n",
    "df5.loc[:, \"Gender\"] = pd.Series(['L','L','L'])\n",
    "df5"
   ]
  },
  {
   "cell_type": "markdown",
   "id": "c8634447",
   "metadata": {},
   "source": [
    "# Melihat ukuran dataframe"
   ]
  },
  {
   "cell_type": "code",
   "execution_count": 32,
   "id": "b21d3e63",
   "metadata": {},
   "outputs": [
    {
     "data": {
      "text/plain": [
       "3"
      ]
     },
     "execution_count": 32,
     "metadata": {},
     "output_type": "execute_result"
    }
   ],
   "source": [
    "#ukuran baris paling panjang\n",
    "len(df2)"
   ]
  },
  {
   "cell_type": "code",
   "execution_count": 33,
   "id": "0b5e9a75",
   "metadata": {},
   "outputs": [
    {
     "data": {
      "text/plain": [
       "3"
      ]
     },
     "execution_count": 33,
     "metadata": {},
     "output_type": "execute_result"
    }
   ],
   "source": [
    "#ukuran baris pada kolom tertentu\n",
    "len(df2[\"Nama\"])"
   ]
  },
  {
   "cell_type": "code",
   "execution_count": 34,
   "id": "a1fbd39d",
   "metadata": {},
   "outputs": [
    {
     "name": "stdout",
     "output_type": "stream",
     "text": [
      "(3, 2)\n"
     ]
    }
   ],
   "source": [
    "#ukuran baris, ukuran kolom dataframe\n",
    "print(df2.shape)"
   ]
  },
  {
   "cell_type": "markdown",
   "id": "533ccd74",
   "metadata": {},
   "source": [
    "# Menghapus"
   ]
  },
  {
   "cell_type": "code",
   "execution_count": 35,
   "id": "4cb38456",
   "metadata": {},
   "outputs": [
    {
     "data": {
      "text/html": [
       "<div>\n",
       "<style scoped>\n",
       "    .dataframe tbody tr th:only-of-type {\n",
       "        vertical-align: middle;\n",
       "    }\n",
       "\n",
       "    .dataframe tbody tr th {\n",
       "        vertical-align: top;\n",
       "    }\n",
       "\n",
       "    .dataframe thead th {\n",
       "        text-align: right;\n",
       "    }\n",
       "</style>\n",
       "<table border=\"1\" class=\"dataframe\">\n",
       "  <thead>\n",
       "    <tr style=\"text-align: right;\">\n",
       "      <th></th>\n",
       "      <th>Nama</th>\n",
       "      <th>Usia</th>\n",
       "    </tr>\n",
       "  </thead>\n",
       "  <tbody>\n",
       "    <tr>\n",
       "      <th>0</th>\n",
       "      <td>Purwanto</td>\n",
       "      <td>32</td>\n",
       "    </tr>\n",
       "    <tr>\n",
       "      <th>1</th>\n",
       "      <td>Purnomo</td>\n",
       "      <td>43</td>\n",
       "    </tr>\n",
       "    <tr>\n",
       "      <th>2</th>\n",
       "      <td>Purwo</td>\n",
       "      <td>55</td>\n",
       "    </tr>\n",
       "  </tbody>\n",
       "</table>\n",
       "</div>"
      ],
      "text/plain": [
       "       Nama  Usia\n",
       "0  Purwanto    32\n",
       "1   Purnomo    43\n",
       "2     Purwo    55"
      ]
     },
     "execution_count": 35,
     "metadata": {},
     "output_type": "execute_result"
    }
   ],
   "source": [
    "df6 = pd.DataFrame([['Purwanto',32],['Purnomo',43],['Purwo',55]],columns=['Nama','Usia'])\n",
    "df6"
   ]
  },
  {
   "cell_type": "code",
   "execution_count": 36,
   "id": "05f528e9",
   "metadata": {},
   "outputs": [
    {
     "data": {
      "text/html": [
       "<div>\n",
       "<style scoped>\n",
       "    .dataframe tbody tr th:only-of-type {\n",
       "        vertical-align: middle;\n",
       "    }\n",
       "\n",
       "    .dataframe tbody tr th {\n",
       "        vertical-align: top;\n",
       "    }\n",
       "\n",
       "    .dataframe thead th {\n",
       "        text-align: right;\n",
       "    }\n",
       "</style>\n",
       "<table border=\"1\" class=\"dataframe\">\n",
       "  <thead>\n",
       "    <tr style=\"text-align: right;\">\n",
       "      <th></th>\n",
       "      <th>Usia</th>\n",
       "    </tr>\n",
       "  </thead>\n",
       "  <tbody>\n",
       "    <tr>\n",
       "      <th>0</th>\n",
       "      <td>32</td>\n",
       "    </tr>\n",
       "    <tr>\n",
       "      <th>1</th>\n",
       "      <td>43</td>\n",
       "    </tr>\n",
       "    <tr>\n",
       "      <th>2</th>\n",
       "      <td>55</td>\n",
       "    </tr>\n",
       "  </tbody>\n",
       "</table>\n",
       "</div>"
      ],
      "text/plain": [
       "   Usia\n",
       "0    32\n",
       "1    43\n",
       "2    55"
      ]
     },
     "execution_count": 36,
     "metadata": {},
     "output_type": "execute_result"
    }
   ],
   "source": [
    "#menghapus kolom\n",
    "del df6['Nama']\n",
    "df6"
   ]
  },
  {
   "cell_type": "code",
   "execution_count": 38,
   "id": "79a4f8d0",
   "metadata": {},
   "outputs": [
    {
     "data": {
      "text/html": [
       "<div>\n",
       "<style scoped>\n",
       "    .dataframe tbody tr th:only-of-type {\n",
       "        vertical-align: middle;\n",
       "    }\n",
       "\n",
       "    .dataframe tbody tr th {\n",
       "        vertical-align: top;\n",
       "    }\n",
       "\n",
       "    .dataframe thead th {\n",
       "        text-align: right;\n",
       "    }\n",
       "</style>\n",
       "<table border=\"1\" class=\"dataframe\">\n",
       "  <thead>\n",
       "    <tr style=\"text-align: right;\">\n",
       "      <th></th>\n",
       "      <th>Usia</th>\n",
       "    </tr>\n",
       "  </thead>\n",
       "  <tbody>\n",
       "    <tr>\n",
       "      <th>2</th>\n",
       "      <td>55</td>\n",
       "    </tr>\n",
       "  </tbody>\n",
       "</table>\n",
       "</div>"
      ],
      "text/plain": [
       "   Usia\n",
       "2    55"
      ]
     },
     "execution_count": 38,
     "metadata": {},
     "output_type": "execute_result"
    }
   ],
   "source": [
    "#Menghapus n baris di awal\n",
    "df6=df6[2:]\n",
    "df6"
   ]
  },
  {
   "cell_type": "code",
   "execution_count": 39,
   "id": "62e12370",
   "metadata": {},
   "outputs": [
    {
     "data": {
      "text/html": [
       "<div>\n",
       "<style scoped>\n",
       "    .dataframe tbody tr th:only-of-type {\n",
       "        vertical-align: middle;\n",
       "    }\n",
       "\n",
       "    .dataframe tbody tr th {\n",
       "        vertical-align: top;\n",
       "    }\n",
       "\n",
       "    .dataframe thead th {\n",
       "        text-align: right;\n",
       "    }\n",
       "</style>\n",
       "<table border=\"1\" class=\"dataframe\">\n",
       "  <thead>\n",
       "    <tr style=\"text-align: right;\">\n",
       "      <th></th>\n",
       "      <th>Nama</th>\n",
       "      <th>Usia</th>\n",
       "    </tr>\n",
       "  </thead>\n",
       "  <tbody>\n",
       "    <tr>\n",
       "      <th>0</th>\n",
       "      <td>Purwanto</td>\n",
       "      <td>32</td>\n",
       "    </tr>\n",
       "    <tr>\n",
       "      <th>1</th>\n",
       "      <td>Purnomo</td>\n",
       "      <td>43</td>\n",
       "    </tr>\n",
       "    <tr>\n",
       "      <th>2</th>\n",
       "      <td>Purwo</td>\n",
       "      <td>55</td>\n",
       "    </tr>\n",
       "  </tbody>\n",
       "</table>\n",
       "</div>"
      ],
      "text/plain": [
       "       Nama  Usia\n",
       "0  Purwanto    32\n",
       "1   Purnomo    43\n",
       "2     Purwo    55"
      ]
     },
     "execution_count": 39,
     "metadata": {},
     "output_type": "execute_result"
    }
   ],
   "source": [
    "df6 = pd.DataFrame([['Purwanto',32],['Purnomo',43],['Purwo',55]],columns=['Nama','Usia'])\n",
    "df6"
   ]
  },
  {
   "cell_type": "code",
   "execution_count": 40,
   "id": "638e3101",
   "metadata": {},
   "outputs": [
    {
     "data": {
      "text/html": [
       "<div>\n",
       "<style scoped>\n",
       "    .dataframe tbody tr th:only-of-type {\n",
       "        vertical-align: middle;\n",
       "    }\n",
       "\n",
       "    .dataframe tbody tr th {\n",
       "        vertical-align: top;\n",
       "    }\n",
       "\n",
       "    .dataframe thead th {\n",
       "        text-align: right;\n",
       "    }\n",
       "</style>\n",
       "<table border=\"1\" class=\"dataframe\">\n",
       "  <thead>\n",
       "    <tr style=\"text-align: right;\">\n",
       "      <th></th>\n",
       "      <th>Nama</th>\n",
       "      <th>Usia</th>\n",
       "    </tr>\n",
       "  </thead>\n",
       "  <tbody>\n",
       "    <tr>\n",
       "      <th>1</th>\n",
       "      <td>Purnomo</td>\n",
       "      <td>43</td>\n",
       "    </tr>\n",
       "  </tbody>\n",
       "</table>\n",
       "</div>"
      ],
      "text/plain": [
       "      Nama  Usia\n",
       "1  Purnomo    43"
      ]
     },
     "execution_count": 40,
     "metadata": {},
     "output_type": "execute_result"
    }
   ],
   "source": [
    "#Menghapus baris tertentu\n",
    "df6=df6.drop(df6.index[[0,2]])\n",
    "df6"
   ]
  },
  {
   "cell_type": "markdown",
   "id": "ad6763a3",
   "metadata": {},
   "source": [
    "# Ekspor Dataframe"
   ]
  },
  {
   "cell_type": "code",
   "execution_count": 41,
   "id": "60e1f25b",
   "metadata": {},
   "outputs": [
    {
     "name": "stdout",
     "output_type": "stream",
     "text": [
      "[[ 1 32]\n",
      " [ 2 43]\n",
      " [ 4 55]]\n"
     ]
    }
   ],
   "source": [
    "#import pandas dan numpy\n",
    "import pandas as pd\n",
    "import numpy as np\n",
    "#Misal kita punya suatu dataframe\n",
    "data = [[1,32],[2,43],[4,55]]\n",
    "df = pd.DataFrame(data,columns=['Nama','Usia'])\n",
    "#Convert ke numpy array\n",
    "databaru = df.to_numpy()\n",
    "print(databaru)\n",
    "#Convert ke txt\n",
    "df.to_csv(\"dataexport.txt\")\n",
    "#Convert ke csv\n",
    "df.to_csv(\"dataexport.csv\")\n",
    "#Convert ke xlsx\n",
    "writer = pd.ExcelWriter('dataexport.xlsx')\n",
    "df.to_excel(writer, 'DataFrame')\n",
    "writer.save()"
   ]
  },
  {
   "cell_type": "code",
   "execution_count": null,
   "id": "14e26bdb",
   "metadata": {},
   "outputs": [],
   "source": []
  }
 ],
 "metadata": {
  "kernelspec": {
   "display_name": "Python 3 (ipykernel)",
   "language": "python",
   "name": "python3"
  },
  "language_info": {
   "codemirror_mode": {
    "name": "ipython",
    "version": 3
   },
   "file_extension": ".py",
   "mimetype": "text/x-python",
   "name": "python",
   "nbconvert_exporter": "python",
   "pygments_lexer": "ipython3",
   "version": "3.9.7"
  }
 },
 "nbformat": 4,
 "nbformat_minor": 5
}
