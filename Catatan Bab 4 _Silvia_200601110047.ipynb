{
 "cells": [
  {
   "cell_type": "markdown",
   "id": "ec79eb8d",
   "metadata": {},
   "source": [
    "## Chapter 4"
   ]
  },
  {
   "cell_type": "markdown",
   "id": "2b6878db",
   "metadata": {},
   "source": [
    "### 4.1 Fungsi Global"
   ]
  },
  {
   "cell_type": "markdown",
   "id": "1b647a52",
   "metadata": {},
   "source": [
    "##### Fungsi global adalah fungsi yang didefinisikan di dalam suatu modul dan dapat dipanggil oleh fungsi lain, baik yang berada di dalam modul yang sama maupun modul lain."
   ]
  },
  {
   "cell_type": "markdown",
   "id": "e3dfba90",
   "metadata": {},
   "source": [
    "#### Algorithm 4.1"
   ]
  },
  {
   "cell_type": "code",
   "execution_count": 1,
   "id": "39356a45",
   "metadata": {},
   "outputs": [
    {
     "data": {
      "text/plain": [
       "50"
      ]
     },
     "execution_count": 1,
     "metadata": {},
     "output_type": "execute_result"
    }
   ],
   "source": [
    "def kali(a,b):\n",
    "    c=a*b\n",
    "    return c # mengembalikan nilai ke baris pemanggil\n",
    "def tulis(s):\n",
    "    print(s)\n",
    "z=kali(10,5)\n",
    "z"
   ]
  },
  {
   "cell_type": "code",
   "execution_count": 2,
   "id": "15db2448",
   "metadata": {},
   "outputs": [
    {
     "name": "stdout",
     "output_type": "stream",
     "text": [
      "Pemrograman Komputer I dengan Python\n"
     ]
    }
   ],
   "source": [
    "tulis('Pemrograman Komputer I dengan Python')"
   ]
  },
  {
   "cell_type": "code",
   "execution_count": 3,
   "id": "267b473c",
   "metadata": {},
   "outputs": [
    {
     "name": "stdout",
     "output_type": "stream",
     "text": [
      "50\n"
     ]
    }
   ],
   "source": [
    "tulis(z)"
   ]
  },
  {
   "cell_type": "markdown",
   "id": "245c2b4d",
   "metadata": {},
   "source": [
    "### Modul 4"
   ]
  },
  {
   "cell_type": "markdown",
   "id": "3a3caac0",
   "metadata": {},
   "source": [
    "### Control Flow"
   ]
  },
  {
   "cell_type": "markdown",
   "id": "5095a295",
   "metadata": {},
   "source": [
    "### Ekspresi Boolean"
   ]
  },
  {
   "cell_type": "code",
   "execution_count": 4,
   "id": "c402908a",
   "metadata": {},
   "outputs": [
    {
     "data": {
      "text/plain": [
       "True"
      ]
     },
     "execution_count": 4,
     "metadata": {},
     "output_type": "execute_result"
    }
   ],
   "source": [
    "a = 2\n",
    "b = 2\n",
    "\n",
    "a == b"
   ]
  },
  {
   "cell_type": "code",
   "execution_count": 5,
   "id": "5000f078",
   "metadata": {},
   "outputs": [
    {
     "data": {
      "text/plain": [
       "True"
      ]
     },
     "execution_count": 5,
     "metadata": {},
     "output_type": "execute_result"
    }
   ],
   "source": [
    "5 == 5"
   ]
  },
  {
   "cell_type": "code",
   "execution_count": 6,
   "id": "d0d3d836",
   "metadata": {},
   "outputs": [
    {
     "data": {
      "text/plain": [
       "False"
      ]
     },
     "execution_count": 6,
     "metadata": {},
     "output_type": "execute_result"
    }
   ],
   "source": [
    "5 == 6"
   ]
  },
  {
   "cell_type": "markdown",
   "id": "637af26b",
   "metadata": {},
   "source": [
    "#### Percobaan Conditional if"
   ]
  },
  {
   "cell_type": "code",
   "execution_count": 7,
   "id": "aa34689b",
   "metadata": {},
   "outputs": [
    {
     "name": "stdout",
     "output_type": "stream",
     "text": [
      "Masukkan nilai Anda: 80\n",
      "Anda lulus ujian! SELAMAT!\n"
     ]
    }
   ],
   "source": [
    "nilai = input(\"Masukkan nilai Anda: \")\n",
    "if int(nilai) >=70:\n",
    "    print(\"Anda lulus ujian! SELAMAT!\")"
   ]
  },
  {
   "cell_type": "markdown",
   "id": "a644116c",
   "metadata": {},
   "source": [
    "#### Percobaan Conditional if-else"
   ]
  },
  {
   "cell_type": "code",
   "execution_count": 8,
   "id": "2d48e2cf",
   "metadata": {},
   "outputs": [
    {
     "name": "stdout",
     "output_type": "stream",
     "text": [
      "Masukkan nilai Anda: 67\n",
      "Anda belum lulus ujian!\n"
     ]
    }
   ],
   "source": [
    "nilai = input(\"Masukkan nilai Anda: \")\n",
    "if int(nilai) >=70:\n",
    "    print(\"Anda lulus ujian! SELAMAT!\")\n",
    "else:\n",
    "    print(\"Anda belum lulus ujian!\")"
   ]
  },
  {
   "cell_type": "markdown",
   "id": "59cc10c9",
   "metadata": {},
   "source": [
    "#### Percobaan Conditional if-elif-else"
   ]
  },
  {
   "cell_type": "code",
   "execution_count": 9,
   "id": "b22e0bab",
   "metadata": {},
   "outputs": [
    {
     "name": "stdout",
     "output_type": "stream",
     "text": [
      "Masukkan nilai Anda: 87\n",
      "Anda lulus ujian! SELAMAT!\n"
     ]
    }
   ],
   "source": [
    "nilai = input(\"Masukkan nilai Anda: \")\n",
    "if int(nilai) < 0 or int(nilai) > 100:\n",
    "    print(\"NilaI Anda Tidak valid\")\n",
    "elif int(nilai) >=70:\n",
    "    print(\"Anda lulus ujian! SELAMAT!\")\n",
    "else:\n",
    "    print(\"Anda belum lulus ujian!\")"
   ]
  }
 ],
 "metadata": {
  "kernelspec": {
   "display_name": "Python 3 (ipykernel)",
   "language": "python",
   "name": "python3"
  },
  "language_info": {
   "codemirror_mode": {
    "name": "ipython",
    "version": 3
   },
   "file_extension": ".py",
   "mimetype": "text/x-python",
   "name": "python",
   "nbconvert_exporter": "python",
   "pygments_lexer": "ipython3",
   "version": "3.9.7"
  }
 },
 "nbformat": 4,
 "nbformat_minor": 5
}
